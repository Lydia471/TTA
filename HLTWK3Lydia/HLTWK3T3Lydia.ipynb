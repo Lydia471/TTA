{
 "metadata": {
  "language_info": {
   "codemirror_mode": {
    "name": "ipython",
    "version": 3
   },
   "file_extension": ".py",
   "mimetype": "text/x-python",
   "name": "python",
   "nbconvert_exporter": "python",
   "pygments_lexer": "ipython3",
   "version": "3.9.2-final"
  },
  "orig_nbformat": 2,
  "kernelspec": {
   "name": "python392jvsc74a57bd0d7dbeb9924fdee40dd3ecaa4d8b7ec1a8ee09a9cb8fb7523d5a7aba033f78b65",
   "display_name": "Python 3.9.2 64-bit"
  },
  "metadata": {
   "interpreter": {
    "hash": "d7dbeb9924fdee40dd3ecaa4d8b7ec1a8ee09a9cb8fb7523d5a7aba033f78b65"
   }
  }
 },
 "nbformat": 4,
 "nbformat_minor": 2,
 "cells": [
  {
   "cell_type": "code",
   "execution_count": 5,
   "metadata": {},
   "outputs": [
    {
     "output_type": "stream",
     "name": "stdout",
     "text": [
      "[0 1 2 3 4 5 6 7 8 9]\n"
     ]
    }
   ],
   "source": [
    "# Prints a 1D array of numbers from 0 to 9 \n",
    "import numpy as np\n",
    "array = np.arange(0, 10)\n",
    "print(array)"
   ]
  },
  {
   "cell_type": "code",
   "execution_count": 14,
   "metadata": {},
   "outputs": [
    {
     "output_type": "stream",
     "name": "stdout",
     "text": [
      "[[ True  True  True]\n [ True  True  True]\n [ True  True  True]]\n"
     ]
    }
   ],
   "source": [
    "#A 3×3 NumPy array of all Boolean value Trues\n",
    "import numpy as np\n",
    "array = np.ones(9, dtype = bool).reshape(3, 3)\n",
    "print(array)"
   ]
  },
  {
   "cell_type": "code",
   "execution_count": 15,
   "metadata": {},
   "outputs": [
    {
     "output_type": "stream",
     "name": "stdout",
     "text": [
      "[1 3 5 7 9]\n"
     ]
    }
   ],
   "source": [
    "#Extract all odd numbers from array of 1 10\n",
    "import numpy as np\n",
    "array = np.arange(1, 11, 2)\n",
    "print(array)"
   ]
  },
  {
   "cell_type": "code",
   "execution_count": 48,
   "metadata": {},
   "outputs": [
    {
     "output_type": "execute_result",
     "data": {
      "text/plain": [
       "array([-1,  2, -1,  4, -1,  6, -1,  8, -1, 10])"
      ]
     },
     "metadata": {},
     "execution_count": 48
    }
   ],
   "source": [
    "#Replace all odd numbers in an array of 1 10 with the value -1\n",
    "import numpy as np\n",
    "arr = np.array([1,2,3,4,5,6,7,8,9,10])\n",
    "np.where(arr%2==1, -1, arr)\n",
    "\n",
    "\n",
    "\n"
   ]
  },
  {
   "cell_type": "code",
   "execution_count": 97,
   "metadata": {},
   "outputs": [
    {
     "output_type": "stream",
     "name": "stdout",
     "text": [
      "[[ 1  2  3  4  5]\n [ 6  7  8  9 10]]\n"
     ]
    }
   ],
   "source": [
    "#Converts a 1D array to a 2D array with 2 rows\n",
    "import numpy as np\n",
    "\n",
    "a = np.arange(1, 11).reshape (2, 5)\n",
    "print (a)"
   ]
  },
  {
   "cell_type": "code",
   "execution_count": 31,
   "metadata": {},
   "outputs": [
    {
     "output_type": "stream",
     "name": "stdout",
     "text": [
      "vertical stack is: \n [[ 1  2  3  4]\n [ 5  6  7  8]\n [ 9 10 11 12]\n [13 14 15 16]\n [17 18 19 20]\n [21 22 23 24]\n [25 26 27 28]\n [29 30 31 32]]\n\n sum of 2D arrays is: \n [[ 250  260  270  280]\n [ 618  644  670  696]\n [ 986 1028 1070 1112]\n [1354 1412 1470 1528]]\n\n sum of array= 13648\n"
     ]
    }
   ],
   "source": [
    "#Create two arrays a and b, stack these two arrays vertically use the np.dot and np.sum to calculate totals\n",
    "import numpy as np\n",
    "a = np.arange(1, 17).reshape(4, 4)\n",
    "b = np.arange(17, 33).reshape(4, 4)\n",
    "c = np.vstack ((a, b))\n",
    "d = np.dot(a, b)\n",
    "sum = np.sum(d)\n",
    "\n",
    "print(\"vertical stack is:\", \"\\n\",  c)\n",
    "\n",
    "print(\"\\n\",\"sum of 2D arrays is:\",\"\\n\", d)\n",
    "\n",
    "print(\"\\n\",\"sum of array=\", sum)\n",
    "\n",
    "\n"
   ]
  },
  {
   "cell_type": "code",
   "execution_count": null,
   "metadata": {},
   "outputs": [],
   "source": []
  }
 ]
}