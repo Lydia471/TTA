{
 "metadata": {
  "language_info": {
   "codemirror_mode": {
    "name": "ipython",
    "version": 3
   },
   "file_extension": ".py",
   "mimetype": "text/x-python",
   "name": "python",
   "nbconvert_exporter": "python",
   "pygments_lexer": "ipython3",
   "version": "3.9.2-final"
  },
  "orig_nbformat": 2,
  "kernelspec": {
   "name": "python3",
   "display_name": "Python 3.9.2 64-bit",
   "metadata": {
    "interpreter": {
     "hash": "d7dbeb9924fdee40dd3ecaa4d8b7ec1a8ee09a9cb8fb7523d5a7aba033f78b65"
    }
   }
  }
 },
 "nbformat": 4,
 "nbformat_minor": 2,
 "cells": [
  {
   "cell_type": "code",
   "execution_count": 110,
   "metadata": {},
   "outputs": [],
   "source": [
    "Num = range(0, 4)\n",
    "FileName = open(\"Number2.txt\", \"w\")\n",
    "Num = 3\n",
    "FileName.write (str(Num) + \"\\n\") \n",
    "\n",
    "Num = 45\n",
    "FileName.write (str(Num) + \"\\n\") \n",
    "\n",
    "Num = 83\n",
    "FileName.write (str(Num) + \"\\n\") \n",
    "\n",
    "Num = 21\n",
    "FileName.write (str(Num) + \"\\n\") \n",
    "    \n",
    "FileName.close()"
   ]
  },
  {
   "cell_type": "code",
   "execution_count": 99,
   "metadata": {},
   "outputs": [
    {
     "output_type": "stream",
     "name": "stdout",
     "text": [
      "3\n45\n83\n21\n\n"
     ]
    }
   ],
   "source": [
    "#Reading\n",
    "with open(\"Number2.txt\", \"r\") as MyNumber:\n",
    "    data = MyNumber.read()\n",
    "MyNumber.close\n",
    "print(data)"
   ]
  },
  {
   "cell_type": "code",
   "execution_count": 111,
   "metadata": {},
   "outputs": [],
   "source": [
    "#Appending\n",
    "FileName = open(\"Number2.txt\", \"a\")     \n",
    "\n",
    "\n",
    "FileName.write (\"These are given numbers\")  \n",
    "\n",
    "\n",
    "FileName.close()\n"
   ]
  },
  {
   "cell_type": "code",
   "execution_count": 136,
   "metadata": {},
   "outputs": [
    {
     "output_type": "stream",
     "name": "stdout",
     "text": [
      "Grade is: C\n"
     ]
    }
   ],
   "source": [
    "#Calculates student grade\n",
    "\n",
    "mark = int(input(\"Enter your mark?\"))\n",
    "def grade(mark):\n",
    "\n",
    "    if mark >= 90:\n",
    "            return \"A\"\n",
    "            \n",
    "    elif mark >= 75:\n",
    "        return \"B\"\n",
    "    elif mark >= 60:\n",
    "            return \"C\"\n",
    "    elif mark >= 50:\n",
    "        return \"D\"\n",
    "    elif mark >= 40:\n",
    "        return \"E\"\n",
    "    else:\n",
    "        return \"F\"\n",
    "     \n",
    "print(\"Grade is:\", grade(mark))\n"
   ]
  },
  {
   "cell_type": "code",
   "execution_count": 137,
   "metadata": {},
   "outputs": [
    {
     "output_type": "execute_result",
     "data": {
      "text/plain": [
       "'C'"
      ]
     },
     "metadata": {},
     "execution_count": 137
    }
   ],
   "source": [
    "grade(mark)\n"
   ]
  }
 ]
}