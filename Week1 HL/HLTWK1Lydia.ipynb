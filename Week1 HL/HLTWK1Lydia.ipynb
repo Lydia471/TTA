{
 "metadata": {
  "language_info": {
   "codemirror_mode": {
    "name": "ipython",
    "version": 3
   },
   "file_extension": ".py",
   "mimetype": "text/x-python",
   "name": "python",
   "nbconvert_exporter": "python",
   "pygments_lexer": "ipython3",
   "version": "3.9.2-final"
  },
  "orig_nbformat": 2,
  "kernelspec": {
   "name": "python3",
   "display_name": "Python 3.9.2 64-bit",
   "metadata": {
    "interpreter": {
     "hash": "d7dbeb9924fdee40dd3ecaa4d8b7ec1a8ee09a9cb8fb7523d5a7aba033f78b65"
    }
   }
  }
 },
 "nbformat": 4,
 "nbformat_minor": 2,
 "cells": [
  {
   "cell_type": "code",
   "execution_count": 48,
   "metadata": {},
   "outputs": [
    {
     "output_type": "stream",
     "name": "stdout",
     "text": [
      "number = 5\n"
     ]
    }
   ],
   "source": [
    "#Stores a random number between (1,10) in a variable\n",
    "import random\n",
    "number   =   random.randint(1,10)\n",
    "print(\"number =\", number)"
   ]
  },
  {
   "cell_type": "code",
   "execution_count": 18,
   "metadata": {},
   "outputs": [
    {
     "output_type": "stream",
     "name": "stdout",
     "text": [
      "UserName = Lydia\n"
     ]
    }
   ],
   "source": [
    "#Asks a user for their name and stores this in a variable\n",
    "UserName  =  input(\"Hello! What is your name?\")\n",
    "print(\"UserName =\",UserName)"
   ]
  },
  {
   "cell_type": "code",
   "execution_count": 46,
   "metadata": {},
   "outputs": [
    {
     "output_type": "stream",
     "name": "stdout",
     "text": [
      "Hi Lydia could you guess a number between 1 and 10?\n"
     ]
    }
   ],
   "source": [
    "#Asks a user to guess the number between 1 and 10\n",
    "UserName  =  input(\"Hello! What is your name?\")\n",
    "number = random.randint(1,10)\n",
    "print(\"Hi\", UserName, \"could you guess a number between 1 and 10?\")\n",
    "guess = int(input(\"take a guess\"))"
   ]
  },
  {
   "cell_type": "code",
   "execution_count": 55,
   "metadata": {},
   "outputs": [
    {
     "output_type": "stream",
     "name": "stdout",
     "text": [
      "Hi Lydia could you guess a number between 1 and 10?\n",
      "Sorry, guess is incorrect\n"
     ]
    }
   ],
   "source": [
    "#Tells the user whether they have guessed correctly\n",
    "UserName  =  input(\"Hello! What is your name?\")\n",
    "import random\n",
    "print(\"Hi\", UserName,\"could you guess a number between 1 and 10?\")\n",
    "guess = int(input(\"take a guess\"))\n",
    "number   =   random.randint(1,10)\n",
    "if guess == number:\n",
    "    print(\"Well done! Your guess is correct!\")\n",
    "else: \n",
    "    print(\"Sorry, guess is incorrect\")\n"
   ]
  },
  {
   "cell_type": "code",
   "execution_count": 70,
   "metadata": {},
   "outputs": [
    {
     "output_type": "stream",
     "name": "stdout",
     "text": [
      "Please try again\n"
     ]
    }
   ],
   "source": [
    "#Task 2: This program asks a user for their favourite number between 1 and 100 and then tells them a joke based on the number. \n",
    "import random\n",
    "favoriteNum = int(input(\"Hello! Please enter your favorite number between 1 and 100\"))\n",
    "number1 = random.randint(1, 25)\n",
    "number2 = random.randint(26, 50)\n",
    "number3 = random.randint(51, 75)\n",
    "number4 = random.randint(76, 100)\n",
    "joke1 = (\"I'm standing outside. In other words, I'm outstanding.\")\n",
    "joke2 = (\"I am on a strict seafood diet. I see food, I eat it.\")\n",
    "joke3 = (\"I stayed up all night and tried to figure out where the sun was. Then it dawned on me\")\n",
    "joke4 = (\"Two wrongs dont make a right, but three lefts do\")\n",
    "if favoriteNum  <   number1:\n",
    "    print(joke1)\n",
    "elif favoriteNum < number2:\n",
    "    print(joke2)\n",
    "elif favoriteNum < number3:\n",
    "    print(joke3)\n",
    "elif favoriteNum < number4:\n",
    "    print(joke4)\n",
    "else:\n",
    "    print(\"Please try again\")\n"
   ]
  },
  {
   "cell_type": "code",
   "execution_count": 86,
   "metadata": {},
   "outputs": [
    {
     "output_type": "stream",
     "name": "stdout",
     "text": [
      "Hi Lydia, your favorite meal is CalamariRisotoapple_pie with a glass of Champagne\n"
     ]
    }
   ],
   "source": [
    "#Allows user to enter their favourite starter, main course, dessert and drink\n",
    "userName = input(\"What is your name?\")\n",
    "starter = input(\"What is your favourite starter menu?\")\n",
    "main_course = input(\"enter your favourite main course\")\n",
    "desert = input(\"what is your favorite desert?\")\n",
    "drink = input(\"enter your favorite drink?\")\n",
    "print(\"Hi\", userName +\", your favorite meal is\", starter + main_course + desert, \"with a glass of\", drink)"
   ]
  },
  {
   "cell_type": "code",
   "execution_count": 17,
   "metadata": {},
   "outputs": [
    {
     "output_type": "stream",
     "name": "stdout",
     "text": [
      "£ 2000\n£ 1800\n£ 1620\n£ 1458\n£ 1312\n£ 1180\n£ 1062\n"
     ]
    }
   ],
   "source": [
    "#A motorbike costs £2000 and loses 10% of its value every year. Using a loop, print the value of the bike every following year until it falls below £1000.\n",
    "BikeValue = 2000\n",
    "while BikeValue > 1000:\n",
    "    print(\"£\",BikeValue)\n",
    "    BikeValue = int(BikeValue * 0.9)"
   ]
  },
  {
   "cell_type": "code",
   "execution_count": 6,
   "metadata": {},
   "outputs": [
    {
     "output_type": "stream",
     "name": "stdout",
     "text": [
      "6\nYour menu is 3 * 2 :\n"
     ]
    }
   ],
   "source": [
    "#Task 5: asks for two numbers from a user. Then offer a menu to the user giving them a choice of operator\n",
    "number_1 = int(input(\"Enter first number:\"))\n",
    "number_2 = int(input(\"Enter second number:\"))\n",
    "chr = input(\"Enter an operation to perform from the list: +, -, *, /, **:\")\n",
    "if chr == \"+\":\n",
    "    print(number_1 + number_2)\n",
    "elif chr == \"-\":\n",
    "    print(number_1 - number_2)\n",
    "elif chr == \"*\":\n",
    "     print(number_1 * number_2)\n",
    "elif chr == \"/\":\n",
    "    print(number_1 / number_2)\n",
    "elif chr == \"**\":\n",
    "    print((number_1 + number_2)**2)\n",
    "else: \n",
    "    print(\"unknown character\")\n",
    "\n",
    "print(\"Your menu is\", number_1, chr, number_2, \":\")"
   ]
  }
 ]
}