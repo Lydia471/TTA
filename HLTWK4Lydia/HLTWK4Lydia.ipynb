{
 "metadata": {
  "language_info": {
   "codemirror_mode": {
    "name": "ipython",
    "version": 3
   },
   "file_extension": ".py",
   "mimetype": "text/x-python",
   "name": "python",
   "nbconvert_exporter": "python",
   "pygments_lexer": "ipython3",
   "version": "3.9.2-final"
  },
  "orig_nbformat": 2,
  "kernelspec": {
   "name": "python392jvsc74a57bd0d7dbeb9924fdee40dd3ecaa4d8b7ec1a8ee09a9cb8fb7523d5a7aba033f78b65",
   "display_name": "Python 3.9.2 64-bit"
  },
  "metadata": {
   "interpreter": {
    "hash": "d7dbeb9924fdee40dd3ecaa4d8b7ec1a8ee09a9cb8fb7523d5a7aba033f78b65"
   }
  }
 },
 "nbformat": 4,
 "nbformat_minor": 2,
 "cells": [
  {
   "cell_type": "code",
   "execution_count": 48,
   "metadata": {},
   "outputs": [
    {
     "output_type": "execute_result",
     "data": {
      "text/plain": [
       "(15, 5)"
      ]
     },
     "metadata": {},
     "execution_count": 48
    }
   ],
   "source": [
    "#print number of rows and columns in the file\n",
    "import pandas as pd\n",
    "Data = pd.read_csv(\"Holiday_destination.csv\")\n",
    "Data.shape"
   ]
  },
  {
   "cell_type": "code",
   "execution_count": 47,
   "metadata": {},
   "outputs": [
    {
     "output_type": "stream",
     "name": "stdout",
     "text": [
      "  Destination  Score  Ave_star_rating  All_inclusive_hotels Most_visited_city\n2     Vietnam    6.0              3.0                    15       Ho Chi Minh\n3         USA    7.0              3.0                    33          New York\n4       Italy    6.5              4.0                    20            Venice\n5        Bali    8.0              4.0                     8              Kuta\n6   Sri Lanka    8.5              4.0                     6             Kandi\n7    Thailand    9.6              4.5                     7           Bangkok\n"
     ]
    }
   ],
   "source": [
    "#print row 3-8\n",
    "print(Data.iloc[2:8])"
   ]
  },
  {
   "cell_type": "code",
   "execution_count": 14,
   "metadata": {},
   "outputs": [
    {
     "output_type": "execute_result",
     "data": {
      "text/plain": [
       "14.4"
      ]
     },
     "metadata": {},
     "execution_count": 14
    }
   ],
   "source": [
    "#Find the mean number of all inclusive hotels across all destinations.\n",
    "Data[\"All_inclusive_hotels\"].mean()"
   ]
  },
  {
   "cell_type": "code",
   "execution_count": 15,
   "metadata": {},
   "outputs": [
    {
     "output_type": "execute_result",
     "data": {
      "text/plain": [
       "3.5"
      ]
     },
     "metadata": {},
     "execution_count": 15
    }
   ],
   "source": [
    "#the lowest scoring destination\n",
    "Data[\"Score\"].min()"
   ]
  },
  {
   "cell_type": "code",
   "execution_count": 16,
   "metadata": {},
   "outputs": [
    {
     "output_type": "execute_result",
     "data": {
      "text/plain": [
       "10.0"
      ]
     },
     "metadata": {},
     "execution_count": 16
    }
   ],
   "source": [
    "#the highest scoring destination\n",
    "Data[\"Score\"].max()"
   ]
  },
  {
   "cell_type": "code",
   "execution_count": 25,
   "metadata": {},
   "outputs": [
    {
     "output_type": "execute_result",
     "data": {
      "text/plain": [
       "0      True\n",
       "1      True\n",
       "2      True\n",
       "3      True\n",
       "4      True\n",
       "5     False\n",
       "6     False\n",
       "7     False\n",
       "8     False\n",
       "9     False\n",
       "10    False\n",
       "11     True\n",
       "12    False\n",
       "13    False\n",
       "14     True\n",
       "Name: All_inclusive_hotels, dtype: bool"
      ]
     },
     "metadata": {},
     "execution_count": 25
    }
   ],
   "source": [
    "#Find all the destinations where there are more than 9 all inclusive hotels.\n",
    "import pandas as pd\n",
    "Data = pd.read_csv(\"Holiday_destination.csv\")\n",
    "myfilter = Data[\"All_inclusive_hotels\"] > 9\n",
    "myfilter\n"
   ]
  },
  {
   "cell_type": "code",
   "execution_count": 29,
   "metadata": {},
   "outputs": [
    {
     "output_type": "execute_result",
     "data": {
      "text/plain": [
       "0     False\n",
       "1     False\n",
       "2     False\n",
       "3     False\n",
       "4     False\n",
       "5     False\n",
       "6      True\n",
       "7      True\n",
       "8      True\n",
       "9      True\n",
       "10    False\n",
       "11    False\n",
       "12    False\n",
       "13    False\n",
       "14    False\n",
       "Name: Score, dtype: bool"
      ]
     },
     "metadata": {},
     "execution_count": 29
    }
   ],
   "source": [
    "#Filter the data by score above 8.\n",
    "myfilter = Data[\"Score\"] > 8\n",
    "myfilter"
   ]
  },
  {
   "cell_type": "code",
   "execution_count": 30,
   "metadata": {},
   "outputs": [
    {
     "output_type": "execute_result",
     "data": {
      "text/plain": [
       "0     False\n",
       "1     False\n",
       "2     False\n",
       "3     False\n",
       "4     False\n",
       "5     False\n",
       "6     False\n",
       "7     False\n",
       "8     False\n",
       "9     False\n",
       "10    False\n",
       "11    False\n",
       "12    False\n",
       "13    False\n",
       "14    False\n",
       "Name: Score, dtype: bool"
      ]
     },
     "metadata": {},
     "execution_count": 30
    }
   ],
   "source": [
    "#Filter the data score below 2 \n",
    "myfilter = Data[\"Score\"] < 2\n",
    "myfilter"
   ]
  },
  {
   "cell_type": "code",
   "execution_count": 55,
   "metadata": {},
   "outputs": [
    {
     "output_type": "execute_result",
     "data": {
      "text/plain": [
       "-0.2921323660685473"
      ]
     },
     "metadata": {},
     "execution_count": 55
    }
   ],
   "source": [
    "#correlation between number of all inclusive hotels and score?\n",
    "Data[\"Score\"].corr(Data[\"All_inclusive_hotels\"])\n",
    "\n",
    "\n",
    "\n"
   ]
  },
  {
   "cell_type": "code",
   "execution_count": null,
   "metadata": {},
   "outputs": [],
   "source": []
  }
 ]
}